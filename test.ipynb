{
 "cells": [
  {
   "cell_type": "markdown",
   "source": [],
   "metadata": {
    "collapsed": false
   }
  },
  {
   "cell_type": "code",
   "execution_count": 23,
   "outputs": [],
   "source": [
    "from requests import request\n",
    "\n",
    "# https://autopapa.ge/ru/search?utf8=%E2%9C%93&s%5Bprice_from%5D=&s%5Bprice_to%5D=&s%5Bbrand_id%5D=34&s%5Bmodel_id%5D=0&s%5Bperiod%5D=0&s%5Byear_from%5D=0&s%5Byear_to%5D=0&s%5Bmileage_from%5D=0&s%5Bmileage_to%5D=0&s%5Bcountry_id%5D=0&s%5Bcity_id%5D=0&s%5Bcondition%5D=0&s%5Bengine_capacity_from%5D=0&s%5Bengine_capacity_to%5D=0&s%5Bpower_from%5D=0&s%5Bpower_to%5D=0&s%5Bdoor_qty%5D=0&s%5Bseats_count%5D=0&s%5Bmaterial%5D=0&s%5Bcolor_finish%5D=0\n",
    "\n",
    "\n",
    "# https://autopapa.ge/ru/search?utf8=%E2%9C%93&s%5Bprice_from%5D=20000&s%5Bprice_to%5D=50000&s%5Bbrand_id%5D=0&s%5Bmodel_id%5D=0&s%5Bperiod%5D=0&s%5Byear_from%5D=0&s%5Byear_to%5D=0&s%5Bmileage_from%5D=0&s%5Bmileage_to%5D=0&s%5Bcountry_id%5D=2&s%5Bcity_id%5D=2&s%5Bcondition%5D=0&s%5Bengine_type%5D%5B%5D=14&s%5Bengine_capacity_from%5D=0&s%5Bengine_capacity_to%5D=0&s%5Bpower_from%5D=0&s%5Bpower_to%5D=0&s%5Bgearbox%5D%5B%5D=62&s%5Bdoor_qty%5D=0&s%5Bseats_count%5D=0&s%5Bmaterial%5D=0&s%5Bcolor_finish%5D=0"
   ],
   "metadata": {
    "collapsed": false,
    "ExecuteTime": {
     "end_time": "2023-05-27T14:45:32.205269500Z",
     "start_time": "2023-05-27T14:45:32.198266500Z"
    }
   }
  },
  {
   "cell_type": "code",
   "execution_count": 24,
   "metadata": {
    "collapsed": true,
    "ExecuteTime": {
     "end_time": "2023-05-27T14:45:33.689021100Z",
     "start_time": "2023-05-27T14:45:32.757152300Z"
    }
   },
   "outputs": [
    {
     "data": {
      "text/plain": "200"
     },
     "execution_count": 24,
     "metadata": {},
     "output_type": "execute_result"
    }
   ],
   "source": [
    "url = 'https://autopapa.ge/ru/search?utf8=%E2%9C%93&s%5Bprice_from%5D=20000&s%5Bprice_to%5D=50000&s%5Bbrand_id%5D=0&s%5Bmodel_id%5D=0&s%5Bperiod%5D=0&s%5Byear_from%5D=0&s%5Byear_to%5D=0&s%5Bmileage_from%5D=0&s%5Bmileage_to%5D=0&s%5Bcountry_id%5D=2&s%5Bcity_id%5D=2&s%5Bcondition%5D=0&s%5Bengine_type%5D%5B%5D=14&s%5Bengine_capacity_from%5D=0&s%5Bengine_capacity_to%5D=0&s%5Bpower_from%5D=0&s%5Bpower_to%5D=0&s%5Bgearbox%5D%5B%5D=62&s%5Bdoor_qty%5D=0&s%5Bseats_count%5D=0&s%5Bmaterial%5D=0&s%5Bcolor_finish%5D=0'\n",
    "from fake_useragent import UserAgent\n",
    "import requests\n",
    "\n",
    "\n",
    "res = requests.get(url, headers={'User-Agent': UserAgent().random})\n",
    "res.status_code\n",
    "print()"
   ]
  },
  {
   "cell_type": "code",
   "execution_count": 25,
   "outputs": [
    {
     "name": "stdout",
     "output_type": "stream",
     "text": [
      "{'0': '---', '69': 'Toyota', '26': 'Hyundai', '44': 'Mercedes-Benz', '8': 'BMW', '71': 'Volkswagen', '38': 'Lexus', '20': 'Ford', '12': 'Chevrolet', '34': 'Kia', '50': 'Nissan', '': '---------------', '2': 'Acura', '4': 'Alfa Romeo', '223': 'Arctic Cat', '1': 'Audi', '6': 'Bentley', '195': 'BMS', '93': 'Bobcat', '170': 'BRP', '9': 'Buick', '7': 'BYD', '10': 'Cadillac', '213': 'Changan', '13': 'Chrysler', '14': 'Citroen', '81': 'DAF', '226': 'Denza', '17': 'Dodge', '18': 'Ferrari', '19': 'Fiat', '75': 'Geely', '22': 'GMC', '187': 'Harley Davidson', '229': 'HiPhi', '24': 'Honda', '228': 'Huawei', '25': 'Hummer', '27': 'Infiniti', '28': 'Isuzu', '31': 'Jaguar', '97': 'JCB', '32': 'Jeep', '209': 'KARSAN', '33': 'Kawasaki', '183': 'Lada', '37': 'Land Rover', '222': 'Li Auto', '39': 'Lincoln', '40': 'Lotus', '83': 'MAN', '41': 'Maserati', '90': 'MAZ', '43': 'Mazda', '47': 'Mini', '48': 'Mitsubishi', '53': 'Opel', '227': 'ORA', '54': 'Peugeot', '119': 'Piaggio', '210': 'Polaris', '56': 'Porsche', '57': 'Renault', '58': 'Rolls Royce', '59': 'Rover', '128': 'Samsung', '62': 'Scion', '65': 'Skoda', '120': 'Smart', '66': 'Ssangyong', '67': 'Subaru', '68': 'Suzuki', '186': 'Tesla', '70': 'VAZ', '72': 'Volvo', '221': 'Voyah', '106': 'Yamaha', '219': 'Zeekr', '206': 'Zero'}\n"
     ]
    }
   ],
   "source": [
    "from bs4 import BeautifulSoup\n",
    "\n",
    "#<select id=\"brand_id\" name=\"s[brand_id]\" class=\"sel1\">\n",
    "                            # <option value=\"0\">Марка</option>\n",
    "                            # <option value=\"69\">Toyota</option>\n",
    "soup = BeautifulSoup(res.text)\n",
    "options = soup.select('select#brand_id option')\n",
    "\n",
    "# Создаем словарь, где ключ - это value, а значение - текст варианта\n",
    "brands = {option['value']: option.text for option in options}\n",
    "\n",
    "print(brands)  # {'0': 'Марка', '69': 'Toyota'}\n"
   ],
   "metadata": {
    "collapsed": false,
    "ExecuteTime": {
     "end_time": "2023-05-27T14:45:33.767024700Z",
     "start_time": "2023-05-27T14:45:33.689021100Z"
    }
   }
  },
  {
   "cell_type": "code",
   "execution_count": 28,
   "outputs": [
    {
     "name": "stdout",
     "output_type": "stream",
     "text": [
      "[{'name_car': 'Lexus ES 300 седан', 'link': 'https://autopapa.ge/ru/lexus/es-300/777947', 'id': '777947', 'image_link': '/system/car/photos/006/952/765/thumb.jpg?1685187563', 'description': '2016 год, Тбилиси, растаможен, тел. +995558070102 94 600 км / 59 125 Миль, автомат, 2.5 л, гибридный, Руль: левый'}, {'name_car': 'Ford Fusion седан', 'link': 'https://autopapa.ge/ru/ford/fusion/777935', 'id': '777935', 'image_link': '/system/car/photos/006/952/560/thumb.jpg?1685183670', 'description': '2017 год, Тбилиси, растаможен, тел. +995593419959 104 000 км / 65 000 Миль, автомат, 2.0 л, гибридный, Руль: левый'}, {'name_car': 'Toyota Prius седан', 'link': 'https://autopapa.ge/ru/toyota/prius/777922', 'id': '777922', 'image_link': '/system/car/photos/006/952/362/thumb.jpg?1685179097', 'description': '2018 год, Тбилиси, не растаможен, тел. +995579089272 110 000 км / 68 750 Миль, автомат, 1.8 л, гибридный, Руль: левый'}, {'name_car': 'Toyota Avalon седан', 'link': 'https://autopapa.ge/ru/toyota/avalon/777910', 'id': '777910', 'image_link': '/system/car/photos/006/952/187/thumb.jpg?1685175469', 'description': '2016 год, Тбилиси, растаможен, тел. +995557720772 108 500 км / 67 813 Миль, автомат, 2.5 л, гибридный, Руль: левый'}, {'name_car': 'Toyota Prius C хэтчбек', 'link': 'https://autopapa.ge/ru/toyota/prius-c/776890', 'id': '776890', 'image_link': '/system/car/photos/006/947/779/thumb.jpg?1685004106', 'description': '2015 год, Тбилиси, не растаможен, тел. +995593337784 97 000 км / 60 625 Миль, автомат, 1.5 л, гибридный, Руль: левый'}, {'name_car': 'Toyota Prius хэтчбек', 'link': 'https://autopapa.ge/ru/toyota/prius/776481', 'id': '776481', 'image_link': '/system/car/photos/006/933/542/thumb.jpg?1684518275', 'description': '2017 год, Тбилиси, растаможен, тел. +995592229622 88 000 км / 55 000 Миль, автомат, 1.8 л, гибридный, Руль: левый'}, {'name_car': 'Kia Optima седан', 'link': 'https://autopapa.ge/ru/kia/optima/772984', 'id': '772984', 'image_link': '/system/car/photos/006/910/433/thumb.jpg?1683863008', 'description': '2014 год, Тбилиси, не растаможен, тел. +995577772058 156 800 км / 98 000 Миль, автомат, 2.4 л, гибридный, Руль: левый'}, {'name_car': 'Toyota Prius седан', 'link': 'https://autopapa.ge/ru/toyota/prius/765567', 'id': '765567', 'image_link': '/system/car/photos/006/790/989/thumb.jpg?1679988114', 'description': '2018 год, Тбилиси, не растаможен, тел. +995577221378 82 000 км / 51 250 Миль, автомат, 1.8 л, гибридный, Руль: левый'}, {'name_car': 'Toyota Camry седан', 'link': 'https://autopapa.ge/ru/toyota/camry/745269', 'id': '745269', 'image_link': '/system/car/photos/006/951/700/thumb.jpg?1685157578', 'description': '2012 год, Тбилиси, растаможен, тел. +995558171781 275 200 км / 172 000 Миль, автомат, 2.5 л, гибридный, Руль: левый'}, {'name_car': 'Infiniti QX60 внедорожник', 'link': 'https://autopapa.ge/ru/infiniti/QX60/706450', 'id': '706450', 'image_link': '/system/car/photos/006/019/706/thumb.jpg?1648269980', 'description': '2014 год, Тбилиси, растаможен, тел. +995557001070 70 000 км / 43 750 Миль, автомат, 2.5 л, гибридный, Руль: левый'}]\n"
     ]
    }
   ],
   "source": [
    "soup = BeautifulSoup(res.text, 'lxml')\n",
    "cars = soup.find_all('div', class_='boxCatalog2')\n",
    "\n",
    "# Собираем информацию для каждого автомобиля\n",
    "car_info_list = []\n",
    "for car in cars:\n",
    "    info = {}\n",
    "    # Имя и тип автомобиля\n",
    "    name_car = car.find('div', class_='titleCatalog')\n",
    "    if name_car:\n",
    "        info['name_car'] = name_car.text.strip()\n",
    "    # Ссылка на автомобиль\n",
    "    link = car.find('a', href=True)\n",
    "    if link:\n",
    "        info['link'] = f\"https://autopapa.ge{link['href']}\"\n",
    "        info['id'] = str(link['href']).split('/')[-1]\n",
    "    # Ссылка на изображение автомобиля\n",
    "    image = car.find('img', src=True)\n",
    "    if image:\n",
    "        info['image_link'] = image['src']\n",
    "     # Описание автомобиля\n",
    "    description = car.find('div', class_='paramCatalog')\n",
    "    if description:\n",
    "        cleaned_description = description.text.replace('\\n', ' ').replace('\\t', '').replace('\\xa0', ' ')\n",
    "        info['description'] = cleaned_description.strip()\n",
    "    car_info_list.append(info)\n",
    "\n",
    "sorted_car_list = sorted(car_info_list, key=lambda x: int(x['id']), reverse=True)\n",
    "print(sorted_car_list)"
   ],
   "metadata": {
    "collapsed": false,
    "ExecuteTime": {
     "end_time": "2023-05-27T14:48:23.106299Z",
     "start_time": "2023-05-27T14:48:23.062889600Z"
    }
   }
  },
  {
   "cell_type": "code",
   "execution_count": 31,
   "outputs": [
    {
     "ename": "ImportError",
     "evalue": "cannot import name 'MutableMapping' from 'collections' (C:\\Users\\xx\\AppData\\Local\\Programs\\Python\\Python310\\lib\\collections\\__init__.py)",
     "output_type": "error",
     "traceback": [
      "\u001B[1;31m---------------------------------------------------------------------------\u001B[0m",
      "\u001B[1;31mImportError\u001B[0m                               Traceback (most recent call last)",
      "Cell \u001B[1;32mIn[31], line 1\u001B[0m\n\u001B[1;32m----> 1\u001B[0m \u001B[38;5;28;01mfrom\u001B[39;00m \u001B[38;5;21;01mpymongo\u001B[39;00m\u001B[38;5;21;01m.\u001B[39;00m\u001B[38;5;21;01mmongo_client\u001B[39;00m \u001B[38;5;28;01mimport\u001B[39;00m MongoClient\n\u001B[0;32m      5\u001B[0m \u001B[38;5;28;01mfrom\u001B[39;00m \u001B[38;5;21;01mpymongo\u001B[39;00m\u001B[38;5;21;01m.\u001B[39;00m\u001B[38;5;21;01mmongo_client\u001B[39;00m \u001B[38;5;28;01mimport\u001B[39;00m MongoClient\n\u001B[0;32m      7\u001B[0m \u001B[38;5;66;03m# Replace the placeholder with your Atlas connection string\u001B[39;00m\n",
      "File \u001B[1;32mD:\\projects\\ParsingAutopapa\\env\\lib\\site-packages\\pymongo\\__init__.py:77\u001B[0m\n\u001B[0;32m     74\u001B[0m __version__ \u001B[38;5;241m=\u001B[39m version \u001B[38;5;241m=\u001B[39m get_version_string()\n\u001B[0;32m     75\u001B[0m \u001B[38;5;124;03m\"\"\"Current version of PyMongo.\"\"\"\u001B[39;00m\n\u001B[1;32m---> 77\u001B[0m \u001B[38;5;28;01mfrom\u001B[39;00m \u001B[38;5;21;01mpymongo\u001B[39;00m\u001B[38;5;21;01m.\u001B[39;00m\u001B[38;5;21;01mcollection\u001B[39;00m \u001B[38;5;28;01mimport\u001B[39;00m ReturnDocument\n\u001B[0;32m     78\u001B[0m \u001B[38;5;28;01mfrom\u001B[39;00m \u001B[38;5;21;01mpymongo\u001B[39;00m\u001B[38;5;21;01m.\u001B[39;00m\u001B[38;5;21;01mcommon\u001B[39;00m \u001B[38;5;28;01mimport\u001B[39;00m (MIN_SUPPORTED_WIRE_VERSION,\n\u001B[0;32m     79\u001B[0m                             MAX_SUPPORTED_WIRE_VERSION)\n\u001B[0;32m     80\u001B[0m \u001B[38;5;28;01mfrom\u001B[39;00m \u001B[38;5;21;01mpymongo\u001B[39;00m\u001B[38;5;21;01m.\u001B[39;00m\u001B[38;5;21;01mcursor\u001B[39;00m \u001B[38;5;28;01mimport\u001B[39;00m CursorType\n",
      "File \u001B[1;32mD:\\projects\\ParsingAutopapa\\env\\lib\\site-packages\\pymongo\\collection.py:22\u001B[0m\n\u001B[0;32m     19\u001B[0m \u001B[38;5;28;01mimport\u001B[39;00m \u001B[38;5;21;01mwarnings\u001B[39;00m\n\u001B[0;32m     21\u001B[0m \u001B[38;5;28;01mfrom\u001B[39;00m \u001B[38;5;21;01mbson\u001B[39;00m\u001B[38;5;21;01m.\u001B[39;00m\u001B[38;5;21;01mcode\u001B[39;00m \u001B[38;5;28;01mimport\u001B[39;00m Code\n\u001B[1;32m---> 22\u001B[0m \u001B[38;5;28;01mfrom\u001B[39;00m \u001B[38;5;21;01mbson\u001B[39;00m\u001B[38;5;21;01m.\u001B[39;00m\u001B[38;5;21;01mobjectid\u001B[39;00m \u001B[38;5;28;01mimport\u001B[39;00m ObjectId\n\u001B[0;32m     23\u001B[0m \u001B[38;5;28;01mfrom\u001B[39;00m \u001B[38;5;21;01mbson\u001B[39;00m\u001B[38;5;21;01m.\u001B[39;00m\u001B[38;5;21;01mpy3compat\u001B[39;00m \u001B[38;5;28;01mimport\u001B[39;00m (_unicode,\n\u001B[0;32m     24\u001B[0m                             integer_types,\n\u001B[0;32m     25\u001B[0m                             string_type)\n\u001B[0;32m     26\u001B[0m \u001B[38;5;28;01mfrom\u001B[39;00m \u001B[38;5;21;01mbson\u001B[39;00m\u001B[38;5;21;01m.\u001B[39;00m\u001B[38;5;21;01mraw_bson\u001B[39;00m \u001B[38;5;28;01mimport\u001B[39;00m RawBSONDocument\n",
      "File \u001B[1;32mD:\\projects\\ParsingAutopapa\\env\\lib\\site-packages\\bson\\__init__.py:83\u001B[0m\n\u001B[0;32m     79\u001B[0m \u001B[38;5;28;01mfrom\u001B[39;00m \u001B[38;5;21;01mbson\u001B[39;00m\u001B[38;5;21;01m.\u001B[39;00m\u001B[38;5;21;01mbinary\u001B[39;00m \u001B[38;5;28;01mimport\u001B[39;00m (Binary, OLD_UUID_SUBTYPE,\n\u001B[0;32m     80\u001B[0m                          JAVA_LEGACY, CSHARP_LEGACY,\n\u001B[0;32m     81\u001B[0m                          UUIDLegacy)\n\u001B[0;32m     82\u001B[0m \u001B[38;5;28;01mfrom\u001B[39;00m \u001B[38;5;21;01mbson\u001B[39;00m\u001B[38;5;21;01m.\u001B[39;00m\u001B[38;5;21;01mcode\u001B[39;00m \u001B[38;5;28;01mimport\u001B[39;00m Code\n\u001B[1;32m---> 83\u001B[0m \u001B[38;5;28;01mfrom\u001B[39;00m \u001B[38;5;21;01mbson\u001B[39;00m\u001B[38;5;21;01m.\u001B[39;00m\u001B[38;5;21;01mcodec_options\u001B[39;00m \u001B[38;5;28;01mimport\u001B[39;00m (\n\u001B[0;32m     84\u001B[0m     CodecOptions, DEFAULT_CODEC_OPTIONS, _raw_document_class)\n\u001B[0;32m     85\u001B[0m \u001B[38;5;28;01mfrom\u001B[39;00m \u001B[38;5;21;01mbson\u001B[39;00m\u001B[38;5;21;01m.\u001B[39;00m\u001B[38;5;21;01mdbref\u001B[39;00m \u001B[38;5;28;01mimport\u001B[39;00m DBRef\n\u001B[0;32m     86\u001B[0m \u001B[38;5;28;01mfrom\u001B[39;00m \u001B[38;5;21;01mbson\u001B[39;00m\u001B[38;5;21;01m.\u001B[39;00m\u001B[38;5;21;01mdecimal128\u001B[39;00m \u001B[38;5;28;01mimport\u001B[39;00m Decimal128\n",
      "File \u001B[1;32mD:\\projects\\ParsingAutopapa\\env\\lib\\site-packages\\bson\\codec_options.py:19\u001B[0m\n\u001B[0;32m     15\u001B[0m \u001B[38;5;124;03m\"\"\"Tools for specifying BSON codec options.\"\"\"\u001B[39;00m\n\u001B[0;32m     17\u001B[0m \u001B[38;5;28;01mimport\u001B[39;00m \u001B[38;5;21;01mdatetime\u001B[39;00m\n\u001B[1;32m---> 19\u001B[0m \u001B[38;5;28;01mfrom\u001B[39;00m \u001B[38;5;21;01mcollections\u001B[39;00m \u001B[38;5;28;01mimport\u001B[39;00m MutableMapping, namedtuple\n\u001B[0;32m     21\u001B[0m \u001B[38;5;28;01mfrom\u001B[39;00m \u001B[38;5;21;01mbson\u001B[39;00m\u001B[38;5;21;01m.\u001B[39;00m\u001B[38;5;21;01mpy3compat\u001B[39;00m \u001B[38;5;28;01mimport\u001B[39;00m string_type\n\u001B[0;32m     22\u001B[0m \u001B[38;5;28;01mfrom\u001B[39;00m \u001B[38;5;21;01mbson\u001B[39;00m\u001B[38;5;21;01m.\u001B[39;00m\u001B[38;5;21;01mbinary\u001B[39;00m \u001B[38;5;28;01mimport\u001B[39;00m (ALL_UUID_REPRESENTATIONS,\n\u001B[0;32m     23\u001B[0m                          PYTHON_LEGACY,\n\u001B[0;32m     24\u001B[0m                          UUID_REPRESENTATION_NAMES)\n",
      "\u001B[1;31mImportError\u001B[0m: cannot import name 'MutableMapping' from 'collections' (C:\\Users\\xx\\AppData\\Local\\Programs\\Python\\Python310\\lib\\collections\\__init__.py)"
     ]
    }
   ],
   "source": [
    "\n"
   ],
   "metadata": {
    "collapsed": false,
    "ExecuteTime": {
     "end_time": "2023-05-27T18:20:40.500526600Z",
     "start_time": "2023-05-27T18:20:40.282084500Z"
    }
   }
  },
  {
   "cell_type": "code",
   "execution_count": null,
   "outputs": [],
   "source": [],
   "metadata": {
    "collapsed": false
   }
  }
 ],
 "metadata": {
  "kernelspec": {
   "display_name": "Python 3",
   "language": "python",
   "name": "python3"
  },
  "language_info": {
   "codemirror_mode": {
    "name": "ipython",
    "version": 2
   },
   "file_extension": ".py",
   "mimetype": "text/x-python",
   "name": "python",
   "nbconvert_exporter": "python",
   "pygments_lexer": "ipython2",
   "version": "2.7.6"
  }
 },
 "nbformat": 4,
 "nbformat_minor": 0
}
